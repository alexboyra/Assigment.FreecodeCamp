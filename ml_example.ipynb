{
  "nbformat": 4,
  "nbformat_minor": 0,
  "metadata": {
    "colab": {
      "provenance": [],
      "authorship_tag": "ABX9TyNTHr9WNUc/kGIc3qrUQjtp",
      "include_colab_link": true
    },
    "kernelspec": {
      "name": "python3",
      "display_name": "Python 3"
    },
    "language_info": {
      "name": "python"
    }
  },
  "cells": [
    {
      "cell_type": "markdown",
      "metadata": {
        "id": "view-in-github",
        "colab_type": "text"
      },
      "source": [
        "<a href=\"https://colab.research.google.com/github/alexboyra/Assigment.FreecodeCamp/blob/main/ml_example.ipynb\" target=\"_parent\"><img src=\"https://colab.research.google.com/assets/colab-badge.svg\" alt=\"Open In Colab\"/></a>"
      ]
    },
    {
      "cell_type": "markdown",
      "source": [
        "### Import necessary Libraries"
      ],
      "metadata": {
        "id": "_SJkU48-g-xZ"
      }
    },
    {
      "cell_type": "code",
      "source": [
        "import pandas as pd\n",
        "import numpy as np\n",
        "\n",
        "path = '/content/data_1.1.csv'\n",
        "\n",
        "data = pd.read_csv(path).to_numpy()\n",
        "\n",
        "x = data[:, 0] #np(m)\n",
        "y = data[:, 1] #np(m)\n",
        "\n",
        "m = x.shape[0]"
      ],
      "metadata": {
        "id": "c7js0Lnyha2Y"
      },
      "execution_count": 132,
      "outputs": []
    },
    {
      "cell_type": "code",
      "source": [
        "x0 = np.ones(m)\n",
        "x1 = x\n",
        "x2 = np.sqrt(x)\n",
        "\n",
        "#feature scaling\n",
        "def scale(xi):\n",
        "  return (xi-xi.mean())/xi.std()\n",
        "x1 = scale(x1)\n",
        "x2 = scale(x2)\n",
        "\n",
        "x_new = np.array([x0, x1, x2]).T #np(m, 3)\n",
        "print(x_new.shape)"
      ],
      "metadata": {
        "colab": {
          "base_uri": "https://localhost:8080/"
        },
        "id": "ufKtiZD2jrF3",
        "outputId": "293131e8-7ff7-43a9-e685-22e5d06df78e"
      },
      "execution_count": 133,
      "outputs": [
        {
          "output_type": "stream",
          "name": "stdout",
          "text": [
            "(30, 3)\n"
          ]
        }
      ]
    },
    {
      "cell_type": "code",
      "source": [
        "theta = np.array([10.0, 20.0, 30.0]) #np(3)\n",
        "alpha = 0.1\n",
        "\n",
        "for i in range(5000):\n",
        "  z = np.matmul(x_new, theta) #np(m)\n",
        "  J = (z-y)**2\n",
        "  J = J.mean()\n",
        "\n",
        "  if i%50==0:\n",
        "    print('i: %d, J: %f' % (i, J))\n",
        "\n",
        "  grad = np.matmul((z-y).reshape((1, m)), x_new)*2/m #np(1, 3)\n",
        "  grad = grad.flatten() #np(3)\n",
        "\n",
        "  theta += -alpha*grad\n"
      ],
      "metadata": {
        "colab": {
          "base_uri": "https://localhost:8080/"
        },
        "id": "Hs5VXRnZkXY7",
        "outputId": "ed563dd8-5641-4fe8-8125-d85fffd5c0d9"
      },
      "execution_count": 134,
      "outputs": [
        {
          "output_type": "stream",
          "name": "stdout",
          "text": [
            "i: 0, J: 1133805.424705\n",
            "i: 50, J: 850.757608\n",
            "i: 100, J: 651.672447\n",
            "i: 150, J: 500.846360\n",
            "i: 200, J: 386.581037\n",
            "i: 250, J: 300.014022\n",
            "i: 300, J: 234.431150\n",
            "i: 350, J: 184.745793\n",
            "i: 400, J: 147.104337\n",
            "i: 450, J: 118.587300\n",
            "i: 500, J: 96.982891\n",
            "i: 550, J: 80.615466\n",
            "i: 600, J: 68.215561\n",
            "i: 650, J: 58.821435\n",
            "i: 700, J: 51.704478\n",
            "i: 750, J: 46.312696\n",
            "i: 800, J: 42.227901\n",
            "i: 850, J: 39.133274\n",
            "i: 900, J: 36.788795\n",
            "i: 950, J: 35.012626\n",
            "i: 1000, J: 33.667006\n",
            "i: 1050, J: 32.647570\n",
            "i: 1100, J: 31.875248\n",
            "i: 1150, J: 31.290140\n",
            "i: 1200, J: 30.846864\n",
            "i: 1250, J: 30.511039\n",
            "i: 1300, J: 30.256620\n",
            "i: 1350, J: 30.063873\n",
            "i: 1400, J: 29.917848\n",
            "i: 1450, J: 29.807220\n",
            "i: 1500, J: 29.723409\n",
            "i: 1550, J: 29.659914\n",
            "i: 1600, J: 29.611810\n",
            "i: 1650, J: 29.575367\n",
            "i: 1700, J: 29.547758\n",
            "i: 1750, J: 29.526841\n",
            "i: 1800, J: 29.510995\n",
            "i: 1850, J: 29.498990\n",
            "i: 1900, J: 29.489894\n",
            "i: 1950, J: 29.483004\n",
            "i: 2000, J: 29.477784\n",
            "i: 2050, J: 29.473829\n",
            "i: 2100, J: 29.470833\n",
            "i: 2150, J: 29.468563\n",
            "i: 2200, J: 29.466844\n",
            "i: 2250, J: 29.465541\n",
            "i: 2300, J: 29.464554\n",
            "i: 2350, J: 29.463806\n",
            "i: 2400, J: 29.463240\n",
            "i: 2450, J: 29.462810\n",
            "i: 2500, J: 29.462485\n",
            "i: 2550, J: 29.462239\n",
            "i: 2600, J: 29.462052\n",
            "i: 2650, J: 29.461911\n",
            "i: 2700, J: 29.461804\n",
            "i: 2750, J: 29.461723\n",
            "i: 2800, J: 29.461661\n",
            "i: 2850, J: 29.461615\n",
            "i: 2900, J: 29.461579\n",
            "i: 2950, J: 29.461553\n",
            "i: 3000, J: 29.461532\n",
            "i: 3050, J: 29.461517\n",
            "i: 3100, J: 29.461505\n",
            "i: 3150, J: 29.461497\n",
            "i: 3200, J: 29.461490\n",
            "i: 3250, J: 29.461485\n",
            "i: 3300, J: 29.461481\n",
            "i: 3350, J: 29.461478\n",
            "i: 3400, J: 29.461476\n",
            "i: 3450, J: 29.461474\n",
            "i: 3500, J: 29.461473\n",
            "i: 3550, J: 29.461472\n",
            "i: 3600, J: 29.461471\n",
            "i: 3650, J: 29.461471\n",
            "i: 3700, J: 29.461470\n",
            "i: 3750, J: 29.461470\n",
            "i: 3800, J: 29.461470\n",
            "i: 3850, J: 29.461470\n",
            "i: 3900, J: 29.461470\n",
            "i: 3950, J: 29.461469\n",
            "i: 4000, J: 29.461469\n",
            "i: 4050, J: 29.461469\n",
            "i: 4100, J: 29.461469\n",
            "i: 4150, J: 29.461469\n",
            "i: 4200, J: 29.461469\n",
            "i: 4250, J: 29.461469\n",
            "i: 4300, J: 29.461469\n",
            "i: 4350, J: 29.461469\n",
            "i: 4400, J: 29.461469\n",
            "i: 4450, J: 29.461469\n",
            "i: 4500, J: 29.461469\n",
            "i: 4550, J: 29.461469\n",
            "i: 4600, J: 29.461469\n",
            "i: 4650, J: 29.461469\n",
            "i: 4700, J: 29.461469\n",
            "i: 4750, J: 29.461469\n",
            "i: 4800, J: 29.461469\n",
            "i: 4850, J: 29.461469\n",
            "i: 4900, J: 29.461469\n",
            "i: 4950, J: 29.461469\n"
          ]
        }
      ]
    },
    {
      "cell_type": "markdown",
      "source": [
        "### Tensor"
      ],
      "metadata": {
        "id": "T_13XldZsjkh"
      }
    },
    {
      "cell_type": "code",
      "source": [],
      "metadata": {
        "id": "HgyVMKqStRSO"
      },
      "execution_count": 134,
      "outputs": []
    }
  ]
}