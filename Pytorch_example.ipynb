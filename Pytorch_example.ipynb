{
  "nbformat": 4,
  "nbformat_minor": 0,
  "metadata": {
    "colab": {
      "provenance": [],
      "authorship_tag": "ABX9TyOhrVUZVmX+sbualvddbPoH",
      "include_colab_link": true
    },
    "kernelspec": {
      "name": "python3",
      "display_name": "Python 3"
    },
    "language_info": {
      "name": "python"
    }
  },
  "cells": [
    {
      "cell_type": "markdown",
      "metadata": {
        "id": "view-in-github",
        "colab_type": "text"
      },
      "source": [
        "<a href=\"https://colab.research.google.com/github/alexboyra/Assigment.FreecodeCamp/blob/main/Pytorch_example.ipynb\" target=\"_parent\"><img src=\"https://colab.research.google.com/assets/colab-badge.svg\" alt=\"Open In Colab\"/></a>"
      ]
    },
    {
      "cell_type": "code",
      "execution_count": 2,
      "metadata": {
        "colab": {
          "base_uri": "https://localhost:8080/"
        },
        "id": "ZiZP39heuRTd",
        "outputId": "c1630b25-d7c8-41c5-9133-1b29fa03ed0d"
      },
      "outputs": [
        {
          "output_type": "stream",
          "name": "stdout",
          "text": [
            "tensor(56.)\n",
            "tensor(56.)\n"
          ]
        }
      ],
      "source": [
        "import torch\n",
        "\n",
        "a = 10\n",
        "b = 20\n",
        "x = 1\n",
        "y = 2\n",
        "\n",
        "ta = torch.tensor(a, dtype=torch.float32) #parameters must be of type float\n",
        "tb = torch.tensor(b, dtype=torch.float32)\n",
        "tx = torch.tensor(x)\n",
        "ty = torch.tensor(y)\n",
        "\n",
        "ta.requires_grad = True\n",
        "tb.requires_grad = True\n",
        "\n",
        "tz = ta*tx+tb\n",
        "tJ = (tz-ty)**2\n",
        "\n",
        "tJ.backward()\n",
        "\n",
        "print(ta.grad) #Only grad of parameters (leaf nodes in computation graph) are accessible\n",
        "print(tb.grad)"
      ]
    },
    {
      "cell_type": "code",
      "source": [],
      "metadata": {
        "id": "BvQm6cwKuSFG"
      },
      "execution_count": null,
      "outputs": []
    }
  ]
}